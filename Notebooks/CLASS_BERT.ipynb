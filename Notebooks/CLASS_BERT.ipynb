{
  "nbformat": 4,
  "nbformat_minor": 0,
  "metadata": {
    "colab": {
      "name": "CLASS_BERT.ipynb",
      "provenance": [],
      "collapsed_sections": []
    },
    "kernelspec": {
      "name": "python3",
      "display_name": "Python 3"
    },
    "accelerator": "GPU",
    "widgets": {
      "application/vnd.jupyter.widget-state+json": {
        "830ef0df358a472da5f27a868edc83f7": {
          "model_module": "@jupyter-widgets/controls",
          "model_name": "HBoxModel",
          "state": {
            "_view_name": "HBoxView",
            "_dom_classes": [],
            "_model_name": "HBoxModel",
            "_view_module": "@jupyter-widgets/controls",
            "_model_module_version": "1.5.0",
            "_view_count": null,
            "_view_module_version": "1.5.0",
            "box_style": "",
            "layout": "IPY_MODEL_6cd6f20e4aa04dc9bf3c2fbccd407185",
            "_model_module": "@jupyter-widgets/controls",
            "children": [
              "IPY_MODEL_77474e3ffed2445fba8b8fed18ba18eb",
              "IPY_MODEL_0a952a44fe6d492fb38404a42878be0a"
            ]
          }
        },
        "6cd6f20e4aa04dc9bf3c2fbccd407185": {
          "model_module": "@jupyter-widgets/base",
          "model_name": "LayoutModel",
          "state": {
            "_view_name": "LayoutView",
            "grid_template_rows": null,
            "right": null,
            "justify_content": null,
            "_view_module": "@jupyter-widgets/base",
            "overflow": null,
            "_model_module_version": "1.2.0",
            "_view_count": null,
            "flex_flow": null,
            "width": null,
            "min_width": null,
            "border": null,
            "align_items": null,
            "bottom": null,
            "_model_module": "@jupyter-widgets/base",
            "top": null,
            "grid_column": null,
            "overflow_y": null,
            "overflow_x": null,
            "grid_auto_flow": null,
            "grid_area": null,
            "grid_template_columns": null,
            "flex": null,
            "_model_name": "LayoutModel",
            "justify_items": null,
            "grid_row": null,
            "max_height": null,
            "align_content": null,
            "visibility": null,
            "align_self": null,
            "height": null,
            "min_height": null,
            "padding": null,
            "grid_auto_rows": null,
            "grid_gap": null,
            "max_width": null,
            "order": null,
            "_view_module_version": "1.2.0",
            "grid_template_areas": null,
            "object_position": null,
            "object_fit": null,
            "grid_auto_columns": null,
            "margin": null,
            "display": null,
            "left": null
          }
        },
        "77474e3ffed2445fba8b8fed18ba18eb": {
          "model_module": "@jupyter-widgets/controls",
          "model_name": "FloatProgressModel",
          "state": {
            "_view_name": "ProgressView",
            "style": "IPY_MODEL_c2b32151efad438596e8445da687edef",
            "_dom_classes": [],
            "description": "100%",
            "_model_name": "FloatProgressModel",
            "bar_style": "success",
            "max": 30188,
            "_view_module": "@jupyter-widgets/controls",
            "_model_module_version": "1.5.0",
            "value": 30188,
            "_view_count": null,
            "_view_module_version": "1.5.0",
            "orientation": "horizontal",
            "min": 0,
            "description_tooltip": null,
            "_model_module": "@jupyter-widgets/controls",
            "layout": "IPY_MODEL_5430703d1aa14183bf548a1a51209061"
          }
        },
        "0a952a44fe6d492fb38404a42878be0a": {
          "model_module": "@jupyter-widgets/controls",
          "model_name": "HTMLModel",
          "state": {
            "_view_name": "HTMLView",
            "style": "IPY_MODEL_89be1ce732f24f5d86fd1fc5d350dfa4",
            "_dom_classes": [],
            "description": "",
            "_model_name": "HTMLModel",
            "placeholder": "​",
            "_view_module": "@jupyter-widgets/controls",
            "_model_module_version": "1.5.0",
            "value": " 30188/30188 [00:03&lt;00:00, 9237.94it/s]",
            "_view_count": null,
            "_view_module_version": "1.5.0",
            "description_tooltip": null,
            "_model_module": "@jupyter-widgets/controls",
            "layout": "IPY_MODEL_9d73c5dd4c484d9cb957f88f91bb0cb0"
          }
        },
        "c2b32151efad438596e8445da687edef": {
          "model_module": "@jupyter-widgets/controls",
          "model_name": "ProgressStyleModel",
          "state": {
            "_view_name": "StyleView",
            "_model_name": "ProgressStyleModel",
            "description_width": "initial",
            "_view_module": "@jupyter-widgets/base",
            "_model_module_version": "1.5.0",
            "_view_count": null,
            "_view_module_version": "1.2.0",
            "bar_color": null,
            "_model_module": "@jupyter-widgets/controls"
          }
        },
        "5430703d1aa14183bf548a1a51209061": {
          "model_module": "@jupyter-widgets/base",
          "model_name": "LayoutModel",
          "state": {
            "_view_name": "LayoutView",
            "grid_template_rows": null,
            "right": null,
            "justify_content": null,
            "_view_module": "@jupyter-widgets/base",
            "overflow": null,
            "_model_module_version": "1.2.0",
            "_view_count": null,
            "flex_flow": null,
            "width": null,
            "min_width": null,
            "border": null,
            "align_items": null,
            "bottom": null,
            "_model_module": "@jupyter-widgets/base",
            "top": null,
            "grid_column": null,
            "overflow_y": null,
            "overflow_x": null,
            "grid_auto_flow": null,
            "grid_area": null,
            "grid_template_columns": null,
            "flex": null,
            "_model_name": "LayoutModel",
            "justify_items": null,
            "grid_row": null,
            "max_height": null,
            "align_content": null,
            "visibility": null,
            "align_self": null,
            "height": null,
            "min_height": null,
            "padding": null,
            "grid_auto_rows": null,
            "grid_gap": null,
            "max_width": null,
            "order": null,
            "_view_module_version": "1.2.0",
            "grid_template_areas": null,
            "object_position": null,
            "object_fit": null,
            "grid_auto_columns": null,
            "margin": null,
            "display": null,
            "left": null
          }
        },
        "89be1ce732f24f5d86fd1fc5d350dfa4": {
          "model_module": "@jupyter-widgets/controls",
          "model_name": "DescriptionStyleModel",
          "state": {
            "_view_name": "StyleView",
            "_model_name": "DescriptionStyleModel",
            "description_width": "",
            "_view_module": "@jupyter-widgets/base",
            "_model_module_version": "1.5.0",
            "_view_count": null,
            "_view_module_version": "1.2.0",
            "_model_module": "@jupyter-widgets/controls"
          }
        },
        "9d73c5dd4c484d9cb957f88f91bb0cb0": {
          "model_module": "@jupyter-widgets/base",
          "model_name": "LayoutModel",
          "state": {
            "_view_name": "LayoutView",
            "grid_template_rows": null,
            "right": null,
            "justify_content": null,
            "_view_module": "@jupyter-widgets/base",
            "overflow": null,
            "_model_module_version": "1.2.0",
            "_view_count": null,
            "flex_flow": null,
            "width": null,
            "min_width": null,
            "border": null,
            "align_items": null,
            "bottom": null,
            "_model_module": "@jupyter-widgets/base",
            "top": null,
            "grid_column": null,
            "overflow_y": null,
            "overflow_x": null,
            "grid_auto_flow": null,
            "grid_area": null,
            "grid_template_columns": null,
            "flex": null,
            "_model_name": "LayoutModel",
            "justify_items": null,
            "grid_row": null,
            "max_height": null,
            "align_content": null,
            "visibility": null,
            "align_self": null,
            "height": null,
            "min_height": null,
            "padding": null,
            "grid_auto_rows": null,
            "grid_gap": null,
            "max_width": null,
            "order": null,
            "_view_module_version": "1.2.0",
            "grid_template_areas": null,
            "object_position": null,
            "object_fit": null,
            "grid_auto_columns": null,
            "margin": null,
            "display": null,
            "left": null
          }
        },
        "8fda7b5eeae9472b9c084d4b7124515f": {
          "model_module": "@jupyter-widgets/controls",
          "model_name": "HBoxModel",
          "state": {
            "_view_name": "HBoxView",
            "_dom_classes": [],
            "_model_name": "HBoxModel",
            "_view_module": "@jupyter-widgets/controls",
            "_model_module_version": "1.5.0",
            "_view_count": null,
            "_view_module_version": "1.5.0",
            "box_style": "",
            "layout": "IPY_MODEL_95f0473c415b429eaf584d3d7774e9b7",
            "_model_module": "@jupyter-widgets/controls",
            "children": [
              "IPY_MODEL_e5595fbf4b2a4c4aad1eecf628e4c33d",
              "IPY_MODEL_3b6d567ef28b4c28ace8c723925317e9"
            ]
          }
        },
        "95f0473c415b429eaf584d3d7774e9b7": {
          "model_module": "@jupyter-widgets/base",
          "model_name": "LayoutModel",
          "state": {
            "_view_name": "LayoutView",
            "grid_template_rows": null,
            "right": null,
            "justify_content": null,
            "_view_module": "@jupyter-widgets/base",
            "overflow": null,
            "_model_module_version": "1.2.0",
            "_view_count": null,
            "flex_flow": null,
            "width": null,
            "min_width": null,
            "border": null,
            "align_items": null,
            "bottom": null,
            "_model_module": "@jupyter-widgets/base",
            "top": null,
            "grid_column": null,
            "overflow_y": null,
            "overflow_x": null,
            "grid_auto_flow": null,
            "grid_area": null,
            "grid_template_columns": null,
            "flex": null,
            "_model_name": "LayoutModel",
            "justify_items": null,
            "grid_row": null,
            "max_height": null,
            "align_content": null,
            "visibility": null,
            "align_self": null,
            "height": null,
            "min_height": null,
            "padding": null,
            "grid_auto_rows": null,
            "grid_gap": null,
            "max_width": null,
            "order": null,
            "_view_module_version": "1.2.0",
            "grid_template_areas": null,
            "object_position": null,
            "object_fit": null,
            "grid_auto_columns": null,
            "margin": null,
            "display": null,
            "left": null
          }
        },
        "e5595fbf4b2a4c4aad1eecf628e4c33d": {
          "model_module": "@jupyter-widgets/controls",
          "model_name": "FloatProgressModel",
          "state": {
            "_view_name": "ProgressView",
            "style": "IPY_MODEL_6227b1724c384892b99c13ee73d45d86",
            "_dom_classes": [],
            "description": "100%",
            "_model_name": "FloatProgressModel",
            "bar_style": "success",
            "max": 944,
            "_view_module": "@jupyter-widgets/controls",
            "_model_module_version": "1.5.0",
            "value": 944,
            "_view_count": null,
            "_view_module_version": "1.5.0",
            "orientation": "horizontal",
            "min": 0,
            "description_tooltip": null,
            "_model_module": "@jupyter-widgets/controls",
            "layout": "IPY_MODEL_f535e6f523f046f4b61ad047f90597c2"
          }
        },
        "3b6d567ef28b4c28ace8c723925317e9": {
          "model_module": "@jupyter-widgets/controls",
          "model_name": "HTMLModel",
          "state": {
            "_view_name": "HTMLView",
            "style": "IPY_MODEL_4787c0ef8d644b5d839dc3c57e74974d",
            "_dom_classes": [],
            "description": "",
            "_model_name": "HTMLModel",
            "placeholder": "​",
            "_view_module": "@jupyter-widgets/controls",
            "_model_module_version": "1.5.0",
            "value": " 944/944 [06:30&lt;00:00,  2.42it/s]",
            "_view_count": null,
            "_view_module_version": "1.5.0",
            "description_tooltip": null,
            "_model_module": "@jupyter-widgets/controls",
            "layout": "IPY_MODEL_0bedc3d3f8614511ada213bba89240bb"
          }
        },
        "6227b1724c384892b99c13ee73d45d86": {
          "model_module": "@jupyter-widgets/controls",
          "model_name": "ProgressStyleModel",
          "state": {
            "_view_name": "StyleView",
            "_model_name": "ProgressStyleModel",
            "description_width": "initial",
            "_view_module": "@jupyter-widgets/base",
            "_model_module_version": "1.5.0",
            "_view_count": null,
            "_view_module_version": "1.2.0",
            "bar_color": null,
            "_model_module": "@jupyter-widgets/controls"
          }
        },
        "f535e6f523f046f4b61ad047f90597c2": {
          "model_module": "@jupyter-widgets/base",
          "model_name": "LayoutModel",
          "state": {
            "_view_name": "LayoutView",
            "grid_template_rows": null,
            "right": null,
            "justify_content": null,
            "_view_module": "@jupyter-widgets/base",
            "overflow": null,
            "_model_module_version": "1.2.0",
            "_view_count": null,
            "flex_flow": null,
            "width": null,
            "min_width": null,
            "border": null,
            "align_items": null,
            "bottom": null,
            "_model_module": "@jupyter-widgets/base",
            "top": null,
            "grid_column": null,
            "overflow_y": null,
            "overflow_x": null,
            "grid_auto_flow": null,
            "grid_area": null,
            "grid_template_columns": null,
            "flex": null,
            "_model_name": "LayoutModel",
            "justify_items": null,
            "grid_row": null,
            "max_height": null,
            "align_content": null,
            "visibility": null,
            "align_self": null,
            "height": null,
            "min_height": null,
            "padding": null,
            "grid_auto_rows": null,
            "grid_gap": null,
            "max_width": null,
            "order": null,
            "_view_module_version": "1.2.0",
            "grid_template_areas": null,
            "object_position": null,
            "object_fit": null,
            "grid_auto_columns": null,
            "margin": null,
            "display": null,
            "left": null
          }
        },
        "4787c0ef8d644b5d839dc3c57e74974d": {
          "model_module": "@jupyter-widgets/controls",
          "model_name": "DescriptionStyleModel",
          "state": {
            "_view_name": "StyleView",
            "_model_name": "DescriptionStyleModel",
            "description_width": "",
            "_view_module": "@jupyter-widgets/base",
            "_model_module_version": "1.5.0",
            "_view_count": null,
            "_view_module_version": "1.2.0",
            "_model_module": "@jupyter-widgets/controls"
          }
        },
        "0bedc3d3f8614511ada213bba89240bb": {
          "model_module": "@jupyter-widgets/base",
          "model_name": "LayoutModel",
          "state": {
            "_view_name": "LayoutView",
            "grid_template_rows": null,
            "right": null,
            "justify_content": null,
            "_view_module": "@jupyter-widgets/base",
            "overflow": null,
            "_model_module_version": "1.2.0",
            "_view_count": null,
            "flex_flow": null,
            "width": null,
            "min_width": null,
            "border": null,
            "align_items": null,
            "bottom": null,
            "_model_module": "@jupyter-widgets/base",
            "top": null,
            "grid_column": null,
            "overflow_y": null,
            "overflow_x": null,
            "grid_auto_flow": null,
            "grid_area": null,
            "grid_template_columns": null,
            "flex": null,
            "_model_name": "LayoutModel",
            "justify_items": null,
            "grid_row": null,
            "max_height": null,
            "align_content": null,
            "visibility": null,
            "align_self": null,
            "height": null,
            "min_height": null,
            "padding": null,
            "grid_auto_rows": null,
            "grid_gap": null,
            "max_width": null,
            "order": null,
            "_view_module_version": "1.2.0",
            "grid_template_areas": null,
            "object_position": null,
            "object_fit": null,
            "grid_auto_columns": null,
            "margin": null,
            "display": null,
            "left": null
          }
        }
      }
    }
  },
  "cells": [
    {
      "cell_type": "code",
      "metadata": {
        "id": "yc1zm9QlQKIt"
      },
      "source": [
        "import pandas as pd\n",
        "import torch\n",
        "from sklearn.preprocessing import LabelEncoder\n",
        "import numpy as np"
      ],
      "execution_count": null,
      "outputs": []
    },
    {
      "cell_type": "code",
      "metadata": {
        "id": "B5h6Dd9Yc-59",
        "colab": {
          "base_uri": "https://localhost:8080/"
        },
        "outputId": "5600c125-d3de-4a7d-8019-a6a18626a899"
      },
      "source": [
        "t = torch.cuda.get_device_properties(0).total_memory\n",
        "print('Total Memory: {}'.format(t / 1e9))"
      ],
      "execution_count": null,
      "outputs": [
        {
          "output_type": "stream",
          "text": [
            "Total Memory: 15.812263936\n"
          ],
          "name": "stdout"
        }
      ]
    },
    {
      "cell_type": "code",
      "metadata": {
        "id": "n0BtLNTR4tL5",
        "colab": {
          "base_uri": "https://localhost:8080/"
        },
        "outputId": "5c77ce29-c03d-445c-ffc3-1aafb09644e0"
      },
      "source": [
        "torch.cuda.get_device_properties(0)"
      ],
      "execution_count": null,
      "outputs": [
        {
          "output_type": "execute_result",
          "data": {
            "text/plain": [
              "_CudaDeviceProperties(name='Tesla T4', major=7, minor=5, total_memory=15079MB, multi_processor_count=40)"
            ]
          },
          "metadata": {
            "tags": []
          },
          "execution_count": 3
        }
      ]
    },
    {
      "cell_type": "code",
      "metadata": {
        "id": "_D89i3m4x4hH"
      },
      "source": [
        "# %%capture\n",
        "# !pip install simpletransformers==0.49.3"
      ],
      "execution_count": null,
      "outputs": []
    },
    {
      "cell_type": "code",
      "metadata": {
        "id": "0kCd1nlqTAnd"
      },
      "source": [
        "# from ClassificationModel import ClassificationModel"
      ],
      "execution_count": null,
      "outputs": []
    },
    {
      "cell_type": "code",
      "metadata": {
        "id": "Yu_uywnPP7cY",
        "colab": {
          "base_uri": "https://localhost:8080/"
        },
        "outputId": "b19e18d3-05bd-49c6-9c31-f83d7acb89c4"
      },
      "source": [
        "!pip install transformers==2.10.0\n",
        "!pip install simpletransformers==0.26.0"
      ],
      "execution_count": null,
      "outputs": [
        {
          "output_type": "stream",
          "text": [
            "Collecting transformers==2.10.0\n",
            "\u001b[?25l  Downloading https://files.pythonhosted.org/packages/12/b5/ac41e3e95205ebf53439e4dd087c58e9fd371fd8e3724f2b9b4cdb8282e5/transformers-2.10.0-py3-none-any.whl (660kB)\n",
            "\r\u001b[K     |▌                               | 10kB 23.3MB/s eta 0:00:01\r\u001b[K     |█                               | 20kB 26.9MB/s eta 0:00:01\r\u001b[K     |█▌                              | 30kB 20.5MB/s eta 0:00:01\r\u001b[K     |██                              | 40kB 24.0MB/s eta 0:00:01\r\u001b[K     |██▌                             | 51kB 23.1MB/s eta 0:00:01\r\u001b[K     |███                             | 61kB 25.8MB/s eta 0:00:01\r\u001b[K     |███▌                            | 71kB 17.2MB/s eta 0:00:01\r\u001b[K     |████                            | 81kB 18.3MB/s eta 0:00:01\r\u001b[K     |████▌                           | 92kB 17.2MB/s eta 0:00:01\r\u001b[K     |█████                           | 102kB 17.2MB/s eta 0:00:01\r\u001b[K     |█████▌                          | 112kB 17.2MB/s eta 0:00:01\r\u001b[K     |██████                          | 122kB 17.2MB/s eta 0:00:01\r\u001b[K     |██████▌                         | 133kB 17.2MB/s eta 0:00:01\r\u001b[K     |███████                         | 143kB 17.2MB/s eta 0:00:01\r\u001b[K     |███████▌                        | 153kB 17.2MB/s eta 0:00:01\r\u001b[K     |████████                        | 163kB 17.2MB/s eta 0:00:01\r\u001b[K     |████████▍                       | 174kB 17.2MB/s eta 0:00:01\r\u001b[K     |█████████                       | 184kB 17.2MB/s eta 0:00:01\r\u001b[K     |█████████▍                      | 194kB 17.2MB/s eta 0:00:01\r\u001b[K     |██████████                      | 204kB 17.2MB/s eta 0:00:01\r\u001b[K     |██████████▍                     | 215kB 17.2MB/s eta 0:00:01\r\u001b[K     |███████████                     | 225kB 17.2MB/s eta 0:00:01\r\u001b[K     |███████████▍                    | 235kB 17.2MB/s eta 0:00:01\r\u001b[K     |████████████                    | 245kB 17.2MB/s eta 0:00:01\r\u001b[K     |████████████▍                   | 256kB 17.2MB/s eta 0:00:01\r\u001b[K     |█████████████                   | 266kB 17.2MB/s eta 0:00:01\r\u001b[K     |█████████████▍                  | 276kB 17.2MB/s eta 0:00:01\r\u001b[K     |██████████████                  | 286kB 17.2MB/s eta 0:00:01\r\u001b[K     |██████████████▍                 | 296kB 17.2MB/s eta 0:00:01\r\u001b[K     |███████████████                 | 307kB 17.2MB/s eta 0:00:01\r\u001b[K     |███████████████▍                | 317kB 17.2MB/s eta 0:00:01\r\u001b[K     |███████████████▉                | 327kB 17.2MB/s eta 0:00:01\r\u001b[K     |████████████████▍               | 337kB 17.2MB/s eta 0:00:01\r\u001b[K     |████████████████▉               | 348kB 17.2MB/s eta 0:00:01\r\u001b[K     |█████████████████▍              | 358kB 17.2MB/s eta 0:00:01\r\u001b[K     |█████████████████▉              | 368kB 17.2MB/s eta 0:00:01\r\u001b[K     |██████████████████▍             | 378kB 17.2MB/s eta 0:00:01\r\u001b[K     |██████████████████▉             | 389kB 17.2MB/s eta 0:00:01\r\u001b[K     |███████████████████▍            | 399kB 17.2MB/s eta 0:00:01\r\u001b[K     |███████████████████▉            | 409kB 17.2MB/s eta 0:00:01\r\u001b[K     |████████████████████▍           | 419kB 17.2MB/s eta 0:00:01\r\u001b[K     |████████████████████▉           | 430kB 17.2MB/s eta 0:00:01\r\u001b[K     |█████████████████████▍          | 440kB 17.2MB/s eta 0:00:01\r\u001b[K     |█████████████████████▉          | 450kB 17.2MB/s eta 0:00:01\r\u001b[K     |██████████████████████▍         | 460kB 17.2MB/s eta 0:00:01\r\u001b[K     |██████████████████████▉         | 471kB 17.2MB/s eta 0:00:01\r\u001b[K     |███████████████████████▎        | 481kB 17.2MB/s eta 0:00:01\r\u001b[K     |███████████████████████▉        | 491kB 17.2MB/s eta 0:00:01\r\u001b[K     |████████████████████████▎       | 501kB 17.2MB/s eta 0:00:01\r\u001b[K     |████████████████████████▉       | 512kB 17.2MB/s eta 0:00:01\r\u001b[K     |█████████████████████████▎      | 522kB 17.2MB/s eta 0:00:01\r\u001b[K     |█████████████████████████▉      | 532kB 17.2MB/s eta 0:00:01\r\u001b[K     |██████████████████████████▎     | 542kB 17.2MB/s eta 0:00:01\r\u001b[K     |██████████████████████████▉     | 552kB 17.2MB/s eta 0:00:01\r\u001b[K     |███████████████████████████▎    | 563kB 17.2MB/s eta 0:00:01\r\u001b[K     |███████████████████████████▉    | 573kB 17.2MB/s eta 0:00:01\r\u001b[K     |████████████████████████████▎   | 583kB 17.2MB/s eta 0:00:01\r\u001b[K     |████████████████████████████▉   | 593kB 17.2MB/s eta 0:00:01\r\u001b[K     |█████████████████████████████▎  | 604kB 17.2MB/s eta 0:00:01\r\u001b[K     |█████████████████████████████▉  | 614kB 17.2MB/s eta 0:00:01\r\u001b[K     |██████████████████████████████▎ | 624kB 17.2MB/s eta 0:00:01\r\u001b[K     |██████████████████████████████▊ | 634kB 17.2MB/s eta 0:00:01\r\u001b[K     |███████████████████████████████▎| 645kB 17.2MB/s eta 0:00:01\r\u001b[K     |███████████████████████████████▊| 655kB 17.2MB/s eta 0:00:01\r\u001b[K     |████████████████████████████████| 665kB 17.2MB/s \n",
            "\u001b[?25hRequirement already satisfied: regex!=2019.12.17 in /usr/local/lib/python3.6/dist-packages (from transformers==2.10.0) (2019.12.20)\n",
            "Requirement already satisfied: numpy in /usr/local/lib/python3.6/dist-packages (from transformers==2.10.0) (1.19.4)\n",
            "Requirement already satisfied: dataclasses; python_version < \"3.7\" in /usr/local/lib/python3.6/dist-packages (from transformers==2.10.0) (0.8)\n",
            "Requirement already satisfied: filelock in /usr/local/lib/python3.6/dist-packages (from transformers==2.10.0) (3.0.12)\n",
            "Collecting tokenizers==0.7.0\n",
            "\u001b[?25l  Downloading https://files.pythonhosted.org/packages/14/e5/a26eb4716523808bb0a799fcfdceb6ebf77a18169d9591b2f46a9adb87d9/tokenizers-0.7.0-cp36-cp36m-manylinux1_x86_64.whl (3.8MB)\n",
            "\u001b[K     |████████████████████████████████| 3.8MB 58.3MB/s \n",
            "\u001b[?25hCollecting sentencepiece\n",
            "\u001b[?25l  Downloading https://files.pythonhosted.org/packages/e5/2d/6d4ca4bef9a67070fa1cac508606328329152b1df10bdf31fb6e4e727894/sentencepiece-0.1.94-cp36-cp36m-manylinux2014_x86_64.whl (1.1MB)\n",
            "\u001b[K     |████████████████████████████████| 1.1MB 60.1MB/s \n",
            "\u001b[?25hCollecting sacremoses\n",
            "\u001b[?25l  Downloading https://files.pythonhosted.org/packages/7d/34/09d19aff26edcc8eb2a01bed8e98f13a1537005d31e95233fd48216eed10/sacremoses-0.0.43.tar.gz (883kB)\n",
            "\u001b[K     |████████████████████████████████| 890kB 55.5MB/s \n",
            "\u001b[?25hRequirement already satisfied: requests in /usr/local/lib/python3.6/dist-packages (from transformers==2.10.0) (2.23.0)\n",
            "Requirement already satisfied: tqdm>=4.27 in /usr/local/lib/python3.6/dist-packages (from transformers==2.10.0) (4.41.1)\n",
            "Requirement already satisfied: six in /usr/local/lib/python3.6/dist-packages (from sacremoses->transformers==2.10.0) (1.15.0)\n",
            "Requirement already satisfied: click in /usr/local/lib/python3.6/dist-packages (from sacremoses->transformers==2.10.0) (7.1.2)\n",
            "Requirement already satisfied: joblib in /usr/local/lib/python3.6/dist-packages (from sacremoses->transformers==2.10.0) (1.0.0)\n",
            "Requirement already satisfied: urllib3!=1.25.0,!=1.25.1,<1.26,>=1.21.1 in /usr/local/lib/python3.6/dist-packages (from requests->transformers==2.10.0) (1.24.3)\n",
            "Requirement already satisfied: certifi>=2017.4.17 in /usr/local/lib/python3.6/dist-packages (from requests->transformers==2.10.0) (2020.12.5)\n",
            "Requirement already satisfied: idna<3,>=2.5 in /usr/local/lib/python3.6/dist-packages (from requests->transformers==2.10.0) (2.10)\n",
            "Requirement already satisfied: chardet<4,>=3.0.2 in /usr/local/lib/python3.6/dist-packages (from requests->transformers==2.10.0) (3.0.4)\n",
            "Building wheels for collected packages: sacremoses\n",
            "  Building wheel for sacremoses (setup.py) ... \u001b[?25l\u001b[?25hdone\n",
            "  Created wheel for sacremoses: filename=sacremoses-0.0.43-cp36-none-any.whl size=893261 sha256=a8018f894f3a2eaa524a20b69f5a2178ddc61d31b9c9e192252858194bf5c0ea\n",
            "  Stored in directory: /root/.cache/pip/wheels/29/3c/fd/7ce5c3f0666dab31a50123635e6fb5e19ceb42ce38d4e58f45\n",
            "Successfully built sacremoses\n",
            "Installing collected packages: tokenizers, sentencepiece, sacremoses, transformers\n",
            "Successfully installed sacremoses-0.0.43 sentencepiece-0.1.94 tokenizers-0.7.0 transformers-2.10.0\n",
            "Collecting simpletransformers==0.26.0\n",
            "\u001b[?25l  Downloading https://files.pythonhosted.org/packages/36/fe/63b7df08f0412e3462332145009ddb303903fc3c6a15ec511c365c4c5bce/simpletransformers-0.26.0-py3-none-any.whl (159kB)\n",
            "\u001b[K     |████████████████████████████████| 163kB 12.6MB/s \n",
            "\u001b[?25hRequirement already satisfied: tokenizers in /usr/local/lib/python3.6/dist-packages (from simpletransformers==0.26.0) (0.7.0)\n",
            "Requirement already satisfied: scikit-learn in /usr/local/lib/python3.6/dist-packages (from simpletransformers==0.26.0) (0.22.2.post1)\n",
            "Requirement already satisfied: regex in /usr/local/lib/python3.6/dist-packages (from simpletransformers==0.26.0) (2019.12.20)\n",
            "Requirement already satisfied: requests in /usr/local/lib/python3.6/dist-packages (from simpletransformers==0.26.0) (2.23.0)\n",
            "Collecting tensorboardx\n",
            "\u001b[?25l  Downloading https://files.pythonhosted.org/packages/af/0c/4f41bcd45db376e6fe5c619c01100e9b7531c55791b7244815bac6eac32c/tensorboardX-2.1-py2.py3-none-any.whl (308kB)\n",
            "\u001b[K     |████████████████████████████████| 317kB 28.3MB/s \n",
            "\u001b[?25hRequirement already satisfied: pandas in /usr/local/lib/python3.6/dist-packages (from simpletransformers==0.26.0) (1.1.5)\n",
            "Requirement already satisfied: transformers in /usr/local/lib/python3.6/dist-packages (from simpletransformers==0.26.0) (2.10.0)\n",
            "Collecting seqeval\n",
            "\u001b[?25l  Downloading https://files.pythonhosted.org/packages/9d/2d/233c79d5b4e5ab1dbf111242299153f3caddddbb691219f363ad55ce783d/seqeval-1.2.2.tar.gz (43kB)\n",
            "\u001b[K     |████████████████████████████████| 51kB 9.7MB/s \n",
            "\u001b[?25hRequirement already satisfied: numpy in /usr/local/lib/python3.6/dist-packages (from simpletransformers==0.26.0) (1.19.4)\n",
            "Requirement already satisfied: tqdm in /usr/local/lib/python3.6/dist-packages (from simpletransformers==0.26.0) (4.41.1)\n",
            "Requirement already satisfied: scipy in /usr/local/lib/python3.6/dist-packages (from simpletransformers==0.26.0) (1.4.1)\n",
            "Requirement already satisfied: joblib>=0.11 in /usr/local/lib/python3.6/dist-packages (from scikit-learn->simpletransformers==0.26.0) (1.0.0)\n",
            "Requirement already satisfied: urllib3!=1.25.0,!=1.25.1,<1.26,>=1.21.1 in /usr/local/lib/python3.6/dist-packages (from requests->simpletransformers==0.26.0) (1.24.3)\n",
            "Requirement already satisfied: idna<3,>=2.5 in /usr/local/lib/python3.6/dist-packages (from requests->simpletransformers==0.26.0) (2.10)\n",
            "Requirement already satisfied: chardet<4,>=3.0.2 in /usr/local/lib/python3.6/dist-packages (from requests->simpletransformers==0.26.0) (3.0.4)\n",
            "Requirement already satisfied: certifi>=2017.4.17 in /usr/local/lib/python3.6/dist-packages (from requests->simpletransformers==0.26.0) (2020.12.5)\n",
            "Requirement already satisfied: six in /usr/local/lib/python3.6/dist-packages (from tensorboardx->simpletransformers==0.26.0) (1.15.0)\n",
            "Requirement already satisfied: protobuf>=3.8.0 in /usr/local/lib/python3.6/dist-packages (from tensorboardx->simpletransformers==0.26.0) (3.12.4)\n",
            "Requirement already satisfied: python-dateutil>=2.7.3 in /usr/local/lib/python3.6/dist-packages (from pandas->simpletransformers==0.26.0) (2.8.1)\n",
            "Requirement already satisfied: pytz>=2017.2 in /usr/local/lib/python3.6/dist-packages (from pandas->simpletransformers==0.26.0) (2018.9)\n",
            "Requirement already satisfied: filelock in /usr/local/lib/python3.6/dist-packages (from transformers->simpletransformers==0.26.0) (3.0.12)\n",
            "Requirement already satisfied: sentencepiece in /usr/local/lib/python3.6/dist-packages (from transformers->simpletransformers==0.26.0) (0.1.94)\n",
            "Requirement already satisfied: sacremoses in /usr/local/lib/python3.6/dist-packages (from transformers->simpletransformers==0.26.0) (0.0.43)\n",
            "Requirement already satisfied: dataclasses; python_version < \"3.7\" in /usr/local/lib/python3.6/dist-packages (from transformers->simpletransformers==0.26.0) (0.8)\n",
            "Requirement already satisfied: setuptools in /usr/local/lib/python3.6/dist-packages (from protobuf>=3.8.0->tensorboardx->simpletransformers==0.26.0) (51.0.0)\n",
            "Requirement already satisfied: click in /usr/local/lib/python3.6/dist-packages (from sacremoses->transformers->simpletransformers==0.26.0) (7.1.2)\n",
            "Building wheels for collected packages: seqeval\n",
            "  Building wheel for seqeval (setup.py) ... \u001b[?25l\u001b[?25hdone\n",
            "  Created wheel for seqeval: filename=seqeval-1.2.2-cp36-none-any.whl size=16171 sha256=f305bf78b2f7f7080005357d6b0f87b4a32330e96db9f3e5ac1e656dd6077dca\n",
            "  Stored in directory: /root/.cache/pip/wheels/52/df/1b/45d75646c37428f7e626214704a0e35bd3cfc32eda37e59e5f\n",
            "Successfully built seqeval\n",
            "Installing collected packages: tensorboardx, seqeval, simpletransformers\n",
            "Successfully installed seqeval-1.2.2 simpletransformers-0.26.0 tensorboardx-2.1\n"
          ],
          "name": "stdout"
        }
      ]
    },
    {
      "cell_type": "code",
      "metadata": {
        "id": "pAymGNt7xKrM"
      },
      "source": [
        "from simpletransformers.classification import ClassificationModel"
      ],
      "execution_count": null,
      "outputs": []
    },
    {
      "cell_type": "code",
      "metadata": {
        "id": "x-cl-Q7jQ-pI"
      },
      "source": [
        "le = LabelEncoder()"
      ],
      "execution_count": null,
      "outputs": []
    },
    {
      "cell_type": "code",
      "metadata": {
        "id": "Ov92Pj3vQpiF",
        "colab": {
          "base_uri": "https://localhost:8080/",
          "height": 204
        },
        "outputId": "7a592a9f-3809-4e22-de83-7ff859967ca0"
      },
      "source": [
        "#train = pd.read_csv('drive/My Drive/data-class/train.csv', names=['text', 'Code', 'country'], header=0)\n",
        "train = pd.read_csv('drive/My Drive/data-class/train_combinations.csv', names=['text', 'Code'], header=0)\n",
        "le.fit(train.Code)\n",
        "train[\"labels\"] = le.transform(train.Code)\n",
        "train = train.sample(frac=1, random_state=42).reset_index()\n",
        "train_df = train[[\"text\", \"labels\"]]\n",
        "train_df.head(5)"
      ],
      "execution_count": null,
      "outputs": [
        {
          "output_type": "execute_result",
          "data": {
            "text/html": [
              "<div>\n",
              "<style scoped>\n",
              "    .dataframe tbody tr th:only-of-type {\n",
              "        vertical-align: middle;\n",
              "    }\n",
              "\n",
              "    .dataframe tbody tr th {\n",
              "        vertical-align: top;\n",
              "    }\n",
              "\n",
              "    .dataframe thead th {\n",
              "        text-align: right;\n",
              "    }\n",
              "</style>\n",
              "<table border=\"1\" class=\"dataframe\">\n",
              "  <thead>\n",
              "    <tr style=\"text-align: right;\">\n",
              "      <th></th>\n",
              "      <th>text</th>\n",
              "      <th>labels</th>\n",
              "    </tr>\n",
              "  </thead>\n",
              "  <tbody>\n",
              "    <tr>\n",
              "      <th>0</th>\n",
              "      <td>I prezzi sono aumentati dello 03% a febbraio e...</td>\n",
              "      <td>17</td>\n",
              "    </tr>\n",
              "    <tr>\n",
              "      <th>1</th>\n",
              "      <td>Zapatero decidiu anunciar no dia 2 que não ser...</td>\n",
              "      <td>14</td>\n",
              "    </tr>\n",
              "    <tr>\n",
              "      <th>2</th>\n",
              "      <td>Não basta, portanto, afirmar o princípio abstr...</td>\n",
              "      <td>33</td>\n",
              "    </tr>\n",
              "    <tr>\n",
              "      <th>3</th>\n",
              "      <td>Se puso en marcha la mayor operación de abaste...</td>\n",
              "      <td>24</td>\n",
              "    </tr>\n",
              "    <tr>\n",
              "      <th>4</th>\n",
              "      <td>Esses incentivos estimulam os investimentos pr...</td>\n",
              "      <td>16</td>\n",
              "    </tr>\n",
              "  </tbody>\n",
              "</table>\n",
              "</div>"
            ],
            "text/plain": [
              "                                                text  labels\n",
              "0  I prezzi sono aumentati dello 03% a febbraio e...      17\n",
              "1  Zapatero decidiu anunciar no dia 2 que não ser...      14\n",
              "2  Não basta, portanto, afirmar o princípio abstr...      33\n",
              "3  Se puso en marcha la mayor operación de abaste...      24\n",
              "4  Esses incentivos estimulam os investimentos pr...      16"
            ]
          },
          "metadata": {
            "tags": []
          },
          "execution_count": 9
        }
      ]
    },
    {
      "cell_type": "code",
      "metadata": {
        "id": "IXSanIcNRL_R",
        "colab": {
          "base_uri": "https://localhost:8080/",
          "height": 204
        },
        "outputId": "5b432df7-5ca0-4347-9486-3c6741c41fdb"
      },
      "source": [
        "val = pd.read_csv('drive/My Drive/data-class/val.csv', names=['text', 'Code', 'country'], header=0)\n",
        "val[\"labels\"] = le.transform(val.Code)\n",
        "val_df = val[[\"text\", \"labels\"]]\n",
        "val_df.head(5)"
      ],
      "execution_count": null,
      "outputs": [
        {
          "output_type": "execute_result",
          "data": {
            "text/html": [
              "<div>\n",
              "<style scoped>\n",
              "    .dataframe tbody tr th:only-of-type {\n",
              "        vertical-align: middle;\n",
              "    }\n",
              "\n",
              "    .dataframe tbody tr th {\n",
              "        vertical-align: top;\n",
              "    }\n",
              "\n",
              "    .dataframe thead th {\n",
              "        text-align: right;\n",
              "    }\n",
              "</style>\n",
              "<table border=\"1\" class=\"dataframe\">\n",
              "  <thead>\n",
              "    <tr style=\"text-align: right;\">\n",
              "      <th></th>\n",
              "      <th>text</th>\n",
              "      <th>labels</th>\n",
              "    </tr>\n",
              "  </thead>\n",
              "  <tbody>\n",
              "    <tr>\n",
              "      <th>0</th>\n",
              "      <td>de tal forma que a descentralização prometida ...</td>\n",
              "      <td>12</td>\n",
              "    </tr>\n",
              "    <tr>\n",
              "      <th>1</th>\n",
              "      <td>Garantia de regularização dos trabalhadores ru...</td>\n",
              "      <td>40</td>\n",
              "    </tr>\n",
              "    <tr>\n",
              "      <th>2</th>\n",
              "      <td>Il dibattito sulla necessità di ampliare l ' o...</td>\n",
              "      <td>29</td>\n",
              "    </tr>\n",
              "    <tr>\n",
              "      <th>3</th>\n",
              "      <td>Los dirigentes socialistas de Andalucía promue...</td>\n",
              "      <td>14</td>\n",
              "    </tr>\n",
              "    <tr>\n",
              "      <th>4</th>\n",
              "      <td>Potenziare e sviluppare in maniera strutturale...</td>\n",
              "      <td>24</td>\n",
              "    </tr>\n",
              "  </tbody>\n",
              "</table>\n",
              "</div>"
            ],
            "text/plain": [
              "                                                text  labels\n",
              "0  de tal forma que a descentralização prometida ...      12\n",
              "1  Garantia de regularização dos trabalhadores ru...      40\n",
              "2  Il dibattito sulla necessità di ampliare l ' o...      29\n",
              "3  Los dirigentes socialistas de Andalucía promue...      14\n",
              "4  Potenziare e sviluppare in maniera strutturale...      24"
            ]
          },
          "metadata": {
            "tags": []
          },
          "execution_count": 10
        }
      ]
    },
    {
      "cell_type": "code",
      "metadata": {
        "id": "QrpCpB4SReMv",
        "colab": {
          "base_uri": "https://localhost:8080/",
          "height": 204
        },
        "outputId": "464e2fb3-d6ca-4d54-c8b5-ac45b682f76a"
      },
      "source": [
        "test = pd.read_csv('drive/My Drive/data-class/test.csv', names=['text', 'Code', 'country'], header=0)\n",
        "test[\"labels\"] = le.transform(test.Code)\n",
        "test_df = test[[\"text\", \"labels\", \"country\"]]\n",
        "test_df.head(5)"
      ],
      "execution_count": null,
      "outputs": [
        {
          "output_type": "execute_result",
          "data": {
            "text/html": [
              "<div>\n",
              "<style scoped>\n",
              "    .dataframe tbody tr th:only-of-type {\n",
              "        vertical-align: middle;\n",
              "    }\n",
              "\n",
              "    .dataframe tbody tr th {\n",
              "        vertical-align: top;\n",
              "    }\n",
              "\n",
              "    .dataframe thead th {\n",
              "        text-align: right;\n",
              "    }\n",
              "</style>\n",
              "<table border=\"1\" class=\"dataframe\">\n",
              "  <thead>\n",
              "    <tr style=\"text-align: right;\">\n",
              "      <th></th>\n",
              "      <th>text</th>\n",
              "      <th>labels</th>\n",
              "      <th>country</th>\n",
              "    </tr>\n",
              "  </thead>\n",
              "  <tbody>\n",
              "    <tr>\n",
              "      <th>0</th>\n",
              "      <td>La Dirección General culpa a los conductores d...</td>\n",
              "      <td>24</td>\n",
              "      <td>S</td>\n",
              "    </tr>\n",
              "    <tr>\n",
              "      <th>1</th>\n",
              "      <td>A instituição de um Estatuto específico que de...</td>\n",
              "      <td>41</td>\n",
              "      <td>P</td>\n",
              "    </tr>\n",
              "    <tr>\n",
              "      <th>2</th>\n",
              "      <td>Tal iniciativa deverá ser concebida em estreit...</td>\n",
              "      <td>30</td>\n",
              "      <td>P</td>\n",
              "    </tr>\n",
              "    <tr>\n",
              "      <th>3</th>\n",
              "      <td>Londres dice que es 'ilegal' la captura del ba...</td>\n",
              "      <td>5</td>\n",
              "      <td>S</td>\n",
              "    </tr>\n",
              "    <tr>\n",
              "      <th>4</th>\n",
              "      <td>Além de atender os desempregados que estão rec...</td>\n",
              "      <td>24</td>\n",
              "      <td>B</td>\n",
              "    </tr>\n",
              "  </tbody>\n",
              "</table>\n",
              "</div>"
            ],
            "text/plain": [
              "                                                text  labels country\n",
              "0  La Dirección General culpa a los conductores d...      24       S\n",
              "1  A instituição de um Estatuto específico que de...      41       P\n",
              "2  Tal iniciativa deverá ser concebida em estreit...      30       P\n",
              "3  Londres dice que es 'ilegal' la captura del ba...       5       S\n",
              "4  Além de atender os desempregados que estão rec...      24       B"
            ]
          },
          "metadata": {
            "tags": []
          },
          "execution_count": 11
        }
      ]
    },
    {
      "cell_type": "code",
      "metadata": {
        "id": "icMOHkU-Rvgy",
        "colab": {
          "base_uri": "https://localhost:8080/"
        },
        "outputId": "31b9cb91-30b1-45ad-cd4d-f7a13ebd6b7f"
      },
      "source": [
        "model = ClassificationModel(\n",
        "                            'xlmroberta',\n",
        "                            #'xlm-roberta-base',\n",
        "                            # 'bert',\n",
        "                            #'drive/My Drive/roberta-class/',\n",
        "                            # 'drive/My Drive/roberta-class-trans/',\n",
        "                            # 'drive/My Drive/roberta-class-comb/',\n",
        "                            # 'bert-base-multilingual-cased', \n",
        "                            # 'drive/My Drive/bert-lm/',\n",
        "                            # 'drive/My Drive/roberta-lm/',\n",
        "                            # 'drive/My Drive/roberta-lm-comb/',\n",
        "                            'drive/My Drive/roberta-smooth-0.9/',\n",
        "                            #'drive/My Drive/roberta-trans-smooth-0.9/',\n",
        "                            # 'outputs/best_model/',\n",
        "                            num_labels=len(train_df.labels.unique()), \n",
        "                            args={'train_batch_size': 32, \n",
        "                                  'eval_batch_size': 32,\n",
        "                                  'num_train_epochs': 2,\n",
        "                                  'max_seq_length': 200,\n",
        "                                  'weight_decay': 0.01,\n",
        "                                  'adam_epsilon': 1e-6,\n",
        "                                  'warmup_ratio': 0.1,\n",
        "                                  'evaluate_during_training': True,\n",
        "                                  'evaluate_during_training_verbose': True,\n",
        "                                  'evaluate_during_training_steps': 0,\n",
        "                                  'save_model_every_epoch': False,\n",
        "                                  'save_eval_checkpoints': False,\n",
        "                                  'save_steps': 0,\n",
        "                                  'use_early_stopping': True,\n",
        "                                  'early_stopping_patience': 2,\n",
        "                                  'fp16': False,\n",
        "                                  'overwrite_output_dir': True,\n",
        "                                  'reprocess_input_data': True,\n",
        "                                  'learning_rate': 2e-5,\n",
        "                                  'manual_seed':42\n",
        "                                  })"
      ],
      "execution_count": null,
      "outputs": [
        {
          "output_type": "stream",
          "text": [
            "/usr/local/lib/python3.6/dist-packages/simpletransformers/classification/classification_model.py:173: UserWarning: use_multiprocessing automatically disabled as xlmroberta fails when using multiprocessing for feature conversion.\n",
            "  f\"use_multiprocessing automatically disabled as {model_type}\"\n"
          ],
          "name": "stderr"
        }
      ]
    },
    {
      "cell_type": "code",
      "metadata": {
        "id": "uqqki_vGTxsh"
      },
      "source": [
        "# model.train_model(train_df, eval_df=val_df)"
      ],
      "execution_count": null,
      "outputs": []
    },
    {
      "cell_type": "code",
      "metadata": {
        "id": "SXwZLwtOXh1s"
      },
      "source": [
        "from sklearn import metrics"
      ],
      "execution_count": null,
      "outputs": []
    },
    {
      "cell_type": "code",
      "metadata": {
        "id": "dfSTimNDaN3y"
      },
      "source": [
        "def f_macro(true, preds):\n",
        "  return metrics.f1_score(true, preds, average='macro')\n",
        "\n",
        "def f_micro(true, preds):\n",
        "  return metrics.f1_score(true, preds, average='micro')"
      ],
      "execution_count": null,
      "outputs": []
    },
    {
      "cell_type": "code",
      "metadata": {
        "id": "ocAJW0csVPyO",
        "colab": {
          "base_uri": "https://localhost:8080/",
          "height": 115,
          "referenced_widgets": [
            "830ef0df358a472da5f27a868edc83f7",
            "6cd6f20e4aa04dc9bf3c2fbccd407185",
            "77474e3ffed2445fba8b8fed18ba18eb",
            "0a952a44fe6d492fb38404a42878be0a",
            "c2b32151efad438596e8445da687edef",
            "5430703d1aa14183bf548a1a51209061",
            "89be1ce732f24f5d86fd1fc5d350dfa4",
            "9d73c5dd4c484d9cb957f88f91bb0cb0",
            "8fda7b5eeae9472b9c084d4b7124515f",
            "95f0473c415b429eaf584d3d7774e9b7",
            "e5595fbf4b2a4c4aad1eecf628e4c33d",
            "3b6d567ef28b4c28ace8c723925317e9",
            "6227b1724c384892b99c13ee73d45d86",
            "f535e6f523f046f4b61ad047f90597c2",
            "4787c0ef8d644b5d839dc3c57e74974d",
            "0bedc3d3f8614511ada213bba89240bb"
          ]
        },
        "outputId": "c08ff81c-c09b-4f7d-803f-1dcca5f68a33"
      },
      "source": [
        "result, model_outputs, wrong_predictions = model.eval_model(test_df, acc=metrics.accuracy_score, f1M=f_macro, f1m=f_micro)"
      ],
      "execution_count": null,
      "outputs": [
        {
          "output_type": "display_data",
          "data": {
            "application/vnd.jupyter.widget-view+json": {
              "model_id": "830ef0df358a472da5f27a868edc83f7",
              "version_minor": 0,
              "version_major": 2
            },
            "text/plain": [
              "HBox(children=(FloatProgress(value=0.0, max=30188.0), HTML(value='')))"
            ]
          },
          "metadata": {
            "tags": []
          }
        },
        {
          "output_type": "stream",
          "text": [
            "\n"
          ],
          "name": "stdout"
        },
        {
          "output_type": "display_data",
          "data": {
            "application/vnd.jupyter.widget-view+json": {
              "model_id": "8fda7b5eeae9472b9c084d4b7124515f",
              "version_minor": 0,
              "version_major": 2
            },
            "text/plain": [
              "HBox(children=(FloatProgress(value=0.0, max=944.0), HTML(value='')))"
            ]
          },
          "metadata": {
            "tags": []
          }
        },
        {
          "output_type": "stream",
          "text": [
            "\n"
          ],
          "name": "stdout"
        }
      ]
    },
    {
      "cell_type": "code",
      "metadata": {
        "id": "1QK7KCLE9ikp",
        "colab": {
          "base_uri": "https://localhost:8080/"
        },
        "outputId": "693075cd-9b3b-47f1-94ae-ef60df859737"
      },
      "source": [
        "result"
      ],
      "execution_count": null,
      "outputs": [
        {
          "output_type": "execute_result",
          "data": {
            "text/plain": [
              "{'acc': 0.6201802040545912,\n",
              " 'eval_loss': 1.4946890251111176,\n",
              " 'f1M': 0.4376448813153832,\n",
              " 'f1m': 0.6201802040545912,\n",
              " 'mcc': 0.5968839250134947}"
            ]
          },
          "metadata": {
            "tags": []
          },
          "execution_count": 17
        }
      ]
    },
    {
      "cell_type": "code",
      "metadata": {
        "id": "XGFWx71RwpQ5"
      },
      "source": [
        "import numpy as np"
      ],
      "execution_count": null,
      "outputs": []
    },
    {
      "cell_type": "code",
      "metadata": {
        "id": "ELFE1aRYWJkD"
      },
      "source": [
        "def softmax(logits):\n",
        "  return np.exp(logits) / np.sum(np.exp(logits), axis=0)"
      ],
      "execution_count": null,
      "outputs": []
    },
    {
      "cell_type": "code",
      "metadata": {
        "id": "kBdY15YXb14d"
      },
      "source": [
        "preds = [np.argmax(softmax(logits)) for logits in model_outputs]"
      ],
      "execution_count": null,
      "outputs": []
    },
    {
      "cell_type": "code",
      "metadata": {
        "id": "kdar2q9bcNTE"
      },
      "source": [
        "label_to_code = dict(zip(train.labels, train.Code))"
      ],
      "execution_count": null,
      "outputs": []
    },
    {
      "cell_type": "code",
      "metadata": {
        "id": "KOt98_BazfeG"
      },
      "source": [
        "test_df[\"preds\"] = preds"
      ],
      "execution_count": null,
      "outputs": []
    },
    {
      "cell_type": "code",
      "metadata": {
        "id": "KplOzF253we2"
      },
      "source": [
        "test_df[\"country\"] = test.country"
      ],
      "execution_count": null,
      "outputs": []
    },
    {
      "cell_type": "code",
      "metadata": {
        "id": "rn-aF9gvctOt"
      },
      "source": [
        "domain_to_label = {0: [], 1: [], 2: [], 3: [], 4: [], 5: [], 6: [], 7:[], 9:[]}\n",
        "for label, code in label_to_code.items():\n",
        "  domain = code // 100\n",
        "  domain_to_label[domain].append(label)"
      ],
      "execution_count": null,
      "outputs": []
    },
    {
      "cell_type": "code",
      "metadata": {
        "id": "2unqeAk8eqEb"
      },
      "source": [
        "preds_domain = []\n",
        "for label in preds:\n",
        "  for domain, labels in domain_to_label.items():\n",
        "    if label in labels:\n",
        "      preds_domain.append(domain)"
      ],
      "execution_count": null,
      "outputs": []
    },
    {
      "cell_type": "code",
      "metadata": {
        "id": "1LVpRYXvfxG2"
      },
      "source": [
        "true_domain = []\n",
        "for label in test_df.labels:\n",
        "  for domain, labels in domain_to_label.items():\n",
        "    if label in labels:\n",
        "      true_domain.append(domain)"
      ],
      "execution_count": null,
      "outputs": []
    },
    {
      "cell_type": "code",
      "metadata": {
        "id": "yT7aawUH5ZKK"
      },
      "source": [
        "test_df[\"true_domain\"] = true_domain\n",
        "test_df[\"pred_domain\"] = preds_domain"
      ],
      "execution_count": null,
      "outputs": []
    },
    {
      "cell_type": "code",
      "metadata": {
        "id": "yOUSOJBDRmS8"
      },
      "source": [
        "def country_f_scores(df):\n",
        "  return f_macro(df.labels, df.preds), f_macro(df.true_domain, df.pred_domain)"
      ],
      "execution_count": null,
      "outputs": []
    },
    {
      "cell_type": "code",
      "metadata": {
        "id": "nDTTn78aRfCy",
        "colab": {
          "base_uri": "https://localhost:8080/"
        },
        "outputId": "5d32de97-a0a6-4203-8abd-67ce5455b675"
      },
      "source": [
        "{c: country_f_scores(test_df[test_df.country == c]) for c in test_df.country.unique()}"
      ],
      "execution_count": null,
      "outputs": [
        {
          "output_type": "execute_result",
          "data": {
            "text/plain": [
              "{'B': (0.4161700446205665, 0.6220224787624171),\n",
              " 'I': (0.2662425794605715, 0.502791445940395),\n",
              " 'P': (0.31232753977116157, 0.507481468431823),\n",
              " 'S': (0.5403683318584003, 0.6359581626327986)}"
            ]
          },
          "metadata": {
            "tags": []
          },
          "execution_count": 29
        }
      ]
    },
    {
      "cell_type": "code",
      "metadata": {
        "id": "YJuN-GTYgEYJ",
        "colab": {
          "base_uri": "https://localhost:8080/"
        },
        "outputId": "59fde33b-ac59-4ff7-b09a-95d9c6278188"
      },
      "source": [
        "print(\"Domain Accuracy: {}\".format(metrics.accuracy_score(true_domain, preds_domain)))\n",
        "print(\"Domain F-Macro: {}\".format(f_macro(true_domain, preds_domain)))\n",
        "print(\"Domain F-Micro: {}\".format(f_micro(true_domain, preds_domain)))\n",
        "print(\"Domain MCC: {}\".format(metrics.matthews_corrcoef(true_domain, preds_domain)))"
      ],
      "execution_count": null,
      "outputs": [
        {
          "output_type": "stream",
          "text": [
            "Domain Accuracy: 0.713793560355108\n",
            "Domain F-Macro: 0.6587707286879891\n",
            "Domain F-Micro: 0.713793560355108\n",
            "Domain MCC: 0.6519997825331826\n"
          ],
          "name": "stdout"
        }
      ]
    },
    {
      "cell_type": "code",
      "metadata": {
        "id": "Hpw8GrqPaRht"
      },
      "source": [
        "test_df.to_csv('results_final.csv', index=False)"
      ],
      "execution_count": null,
      "outputs": []
    }
  ]
}